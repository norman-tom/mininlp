{
 "cells": [
  {
   "cell_type": "code",
   "execution_count": null,
   "metadata": {},
   "outputs": [],
   "source": [
    "import torch\n",
    "from torch.utils.data import Dataset\n",
    "import pickle\n",
    "import string"
   ]
  },
  {
   "cell_type": "code",
   "execution_count": null,
   "metadata": {},
   "outputs": [],
   "source": [
    "from mininlp.data import Tokenizer\n",
    "\n",
    "tokenizer = Tokenizer()"
   ]
  },
  {
   "cell_type": "code",
   "execution_count": null,
   "metadata": {},
   "outputs": [],
   "source": [
    "\"\"\"Token are every ascii character and special tokens for start of sentence, \n",
    "end of sentence, padding, unknown and mask.\"\"\"\n",
    "from mininlp.data import assci_tokens\n",
    "print(assci_tokens())"
   ]
  },
  {
   "cell_type": "code",
   "execution_count": null,
   "metadata": {},
   "outputs": [],
   "source": [
    "tokens = assci_tokens()\n",
    "tokenizer = Tokenizer(tokens)"
   ]
  },
  {
   "cell_type": "code",
   "execution_count": null,
   "metadata": {},
   "outputs": [],
   "source": [
    "\"\"\"Test if the tokenizer is able to convert tokens to ids and vice versa.\"\"\"\n",
    "\n",
    "for id in tokenizer._tokens:\n",
    "    assert tokenizer._token_ids[tokenizer._tokens[id]] == id"
   ]
  },
  {
   "cell_type": "code",
   "execution_count": null,
   "metadata": {},
   "outputs": [],
   "source": [
    "\"\"\"Test if the tokenizer is able to encode and decode a string.\"\"\"\n",
    "\n",
    "test_string = \"Hello, World! \\nLovely day, isn't it?\"\n",
    "\n",
    "test_encoded = tokenizer.encode(test_string)\n",
    "test_decoded = tokenizer.decode(test_encoded)\n",
    "assert test_string == \"\".join(test_decoded)\n",
    "\n",
    "print(test_string)\n",
    "print(test_encoded)\n",
    "print(test_decoded)"
   ]
  },
  {
   "cell_type": "code",
   "execution_count": null,
   "metadata": {},
   "outputs": [],
   "source": [
    "\"\"\"Test if the tokenizer is able to save and load itself.\"\"\"\n",
    "\n",
    "tokenizer.save(\"tokenizer\")\n",
    "\n",
    "tokenizer2 = Tokenizer()\n",
    "tokenizer2.load(\"tokenizer.pkl\")"
   ]
  },
  {
   "cell_type": "code",
   "execution_count": null,
   "metadata": {},
   "outputs": [],
   "source": [
    "\"\"\"Test if the loaded tokenizer is the same as the original tokenizer.\"\"\"\n",
    "\n",
    "assert tokenizer._tokens == tokenizer2._tokens\n",
    "assert tokenizer._token_ids == tokenizer2._token_ids"
   ]
  },
  {
   "cell_type": "code",
   "execution_count": null,
   "metadata": {},
   "outputs": [],
   "source": [
    "\"\"\"Test if the orginal tokenizer and the loaded one encodes and decodes a string to the same tokens ids.\"\"\"\n",
    "\n",
    "test_encoded = tokenizer2.encode(test_string)\n",
    "test_decoded = tokenizer.decode(test_encoded)\n",
    "assert test_string == \"\".join(test_decoded)\n",
    "\n",
    "test_encoded = tokenizer.encode(test_string)\n",
    "test_decoded = tokenizer2.decode(test_encoded)\n",
    "assert test_string == \"\".join(test_decoded)\n",
    "\n",
    "print(test_decoded)\n",
    "print(test_encoded)"
   ]
  },
  {
   "cell_type": "code",
   "execution_count": null,
   "metadata": {},
   "outputs": [],
   "source": [
    "from mininlp.data import SequenceDataset\n",
    "\n",
    "encoded_document = tokenizer.tokenize_document(\"../data/anna.txt\")\n",
    "dataset = SequenceDataset('../data/anna.txt', tokenizer, 32, 1000)"
   ]
  },
  {
   "cell_type": "code",
   "execution_count": null,
   "metadata": {},
   "outputs": [],
   "source": [
    "dataset[0]"
   ]
  },
  {
   "cell_type": "code",
   "execution_count": null,
   "metadata": {},
   "outputs": [],
   "source": [
    "print(tokenizer.decode(dataset[50][0]), tokenizer.decode(dataset[50][1]))\n",
    "print(tokenizer.decode(dataset[46][0]), tokenizer.decode(dataset[46][1]))\n",
    "print(tokenizer.decode(dataset[5][0]), tokenizer.decode(dataset[5][1]))"
   ]
  },
  {
   "cell_type": "code",
   "execution_count": null,
   "metadata": {},
   "outputs": [],
   "source": [
    "from mininlp.transformer import DTransformer\n",
    "\n",
    "MODEL_NAME = 'decoder_transformer_v1'\n",
    "SEQ_LEN = 128\n",
    "EMBEDDING_DIM = 512\n",
    "HEADS = 8\n",
    "LAYERS = 4\n",
    "FACTOR = 4\n",
    "BATCH_SIZE = 256\n",
    "\n",
    "MODEL_PATH = \"..\\models\\decoder_transformer_v1.pt\"\n",
    "\n",
    "model = DTransformer(LAYERS, EMBEDDING_DIM, len(tokenizer), SEQ_LEN, HEADS, FACTOR)\n",
    "state_dict = torch.load(MODEL_PATH)\n",
    "model.load_state_dict(state_dict)"
   ]
  },
  {
   "cell_type": "code",
   "execution_count": null,
   "metadata": {},
   "outputs": [],
   "source": [
    "TOKEN_PATH = \"..\\models\\\\tokenizer.pkl\"\n",
    "\n",
    "tokenizer = Tokenizer()\n",
    "tokenizer.load(TOKEN_PATH)\n",
    "\n",
    "dataset = SequenceDataset('../data/anna.txt', tokenizer, SEQ_LEN, 1)\n",
    "\n",
    "model.eval()\n",
    "with torch.no_grad():\n",
    "    input = dataset[0][0].unsqueeze(0)\n",
    "    print(tokenizer.decode(input[0]), tokenizer.decode(dataset[0][1]))\n",
    "    output = model(input)\n"
   ]
  },
  {
   "cell_type": "code",
   "execution_count": null,
   "metadata": {},
   "outputs": [],
   "source": [
    "import torch.nn.functional as F\n",
    "\n",
    "probs = F.softmax(output[0, -1, :], dim=0)\n",
    "\n",
    "import matplotlib.pyplot as plt\n",
    "plt.figure(figsize=(20, 10))\n",
    "plt.bar(tokenizer.decode(torch.tensor(range(len(probs)))), probs)\n",
    "plt.xticks(rotation=90)\n",
    "\n",
    "print(probs[dataset[0][1]])"
   ]
  },
  {
   "cell_type": "code",
   "execution_count": null,
   "metadata": {},
   "outputs": [],
   "source": [
    "model.eval()\n",
    "text = tokenizer.decode(dataset[0][0])\n",
    "text += [\"<msk>\"]\n",
    "with torch.no_grad():\n",
    "    input = dataset[0][0].unsqueeze(0)\n",
    "    for i in range(50):\n",
    "        output = model(input)\n",
    "        probs = F.softmax(output[0, -1, :], dim=0)\n",
    "        new_token = torch.argmax(probs).unsqueeze(0)\n",
    "        input = torch.cat((input, new_token[:,None]), dim=1)[:, 1:]\n",
    "        text += tokenizer.decode(new_token)"
   ]
  },
  {
   "cell_type": "code",
   "execution_count": null,
   "metadata": {},
   "outputs": [],
   "source": [
    "text = [t for t in text if t != \"<pad>\"]\n",
    "print(\"\".join(text))"
   ]
  }
 ],
 "metadata": {
  "kernelspec": {
   "display_name": "Python 3",
   "language": "python",
   "name": "python3"
  },
  "language_info": {
   "codemirror_mode": {
    "name": "ipython",
    "version": 3
   },
   "file_extension": ".py",
   "mimetype": "text/x-python",
   "name": "python",
   "nbconvert_exporter": "python",
   "pygments_lexer": "ipython3",
   "version": "3.10.5"
  }
 },
 "nbformat": 4,
 "nbformat_minor": 2
}
