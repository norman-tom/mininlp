{
 "cells": [
  {
   "cell_type": "markdown",
   "metadata": {},
   "source": [
    "# Model"
   ]
  },
  {
   "cell_type": "code",
   "execution_count": 49,
   "metadata": {},
   "outputs": [
    {
     "data": {
      "text/plain": [
       "OptimizedModule(\n",
       "  (_orig_mod): DTransformer(\n",
       "    (_embedding): Embedding(\n",
       "      (_token_embedding): Embedding(105, 256)\n",
       "    )\n",
       "    (_decoders): ModuleList(\n",
       "      (0-15): 16 x Decoder(\n",
       "        (_laynorm1): LayerNorm((256,), eps=1e-05, elementwise_affine=True)\n",
       "        (_laynorm2): LayerNorm((256,), eps=1e-05, elementwise_affine=True)\n",
       "        (_mmha): MultiHeadAttention(\n",
       "          (_projection): ModuleList(\n",
       "            (0-2): 3 x Linear(in_features=256, out_features=256, bias=True)\n",
       "          )\n",
       "          (_reprojection): Linear(in_features=256, out_features=256, bias=True)\n",
       "        )\n",
       "        (_mha): MultiHeadAttention(\n",
       "          (_projection): ModuleList(\n",
       "            (0-2): 3 x Linear(in_features=256, out_features=256, bias=True)\n",
       "          )\n",
       "          (_reprojection): Linear(in_features=256, out_features=256, bias=True)\n",
       "        )\n",
       "        (_ff): FeedForward(\n",
       "          (_laynorm): LayerNorm((256,), eps=1e-05, elementwise_affine=True)\n",
       "          (_dropout): Dropout(p=0.2, inplace=False)\n",
       "          (_ff): Sequential(\n",
       "            (0): Linear(in_features=256, out_features=1024, bias=True)\n",
       "            (1): ReLU()\n",
       "            (2): Linear(in_features=1024, out_features=256, bias=True)\n",
       "          )\n",
       "        )\n",
       "      )\n",
       "    )\n",
       "    (_lang_head): LanguageHead(\n",
       "      (_projection): Linear(in_features=256, out_features=105, bias=True)\n",
       "    )\n",
       "  )\n",
       ")"
      ]
     },
     "execution_count": 49,
     "metadata": {},
     "output_type": "execute_result"
    }
   ],
   "source": [
    "from mininlp.transformer import DTransformer\n",
    "import json\n",
    "from mininlp.data import Tokenizer, SequenceDataset\n",
    "import os\n",
    "import torch\n",
    "\n",
    "\n",
    "VERSION = '0.1.1'\n",
    "MODEL_NAME = f'decoder_transformer_v{VERSION}'\n",
    "config = json.load(open(f\"../models/{MODEL_NAME}.json\"))\n",
    "\n",
    "tokenizer = Tokenizer()\n",
    "tokenizer.load(os.path.join('../models', 'tokenizer.pkl'))\n",
    "\n",
    "model = DTransformer(\n",
    "    config['layers'], \n",
    "    config['embedding_dim'], \n",
    "    len(tokenizer), \n",
    "    config['seq_len'], \n",
    "    config['heads'], \n",
    "    config['factor'],\n",
    "    True)\n",
    "model = torch.compile(model)\n",
    "state_dict = torch.load(f\"../models/{MODEL_NAME}.pt\")\n",
    "model.load_state_dict(state_dict)\n",
    "model.to('cuda')"
   ]
  },
  {
   "cell_type": "code",
   "execution_count": 50,
   "metadata": {},
   "outputs": [],
   "source": [
    "tokenizer = Tokenizer()\n",
    "tokenizer.load(\"../models/tokenizer.pkl\")\n",
    "dataset = SequenceDataset('../data/anna.txt', tokenizer, config['seq_len'], 1)"
   ]
  },
  {
   "cell_type": "markdown",
   "metadata": {},
   "source": [
    "import torch.nn.functional as F\n",
    "import matplotlib.pyplot as plt\n",
    "\n",
    "model.eval()\n",
    "with torch.no_grad():\n",
    "    input = dataset[0][0].unsqueeze(0)\n",
    "    output = model(input.to('cuda'))\n",
    "    probs = F.softmax(output[0, -1, :], dim=0)\n",
    "    probs = probs.detach().cpu()\n",
    "    \n",
    "plt.figure(figsize=(20, 5))\n",
    "plt.bar(tokenizer.decode(torch.tensor(range(len(probs)))), probs)\n",
    "plt.xticks(rotation=90)\n",
    "plt.show()"
   ]
  },
  {
   "cell_type": "code",
   "execution_count": 51,
   "metadata": {},
   "outputs": [],
   "source": [
    "text = tokenizer.decode(dataset[0][0])\n",
    "text += [\"<msk>\"]\n",
    "model.eval()\n",
    "with torch.no_grad():\n",
    "    prompt = dataset[0][0].unsqueeze(0).to('cuda')\n",
    "    text += tokenizer.decode(model.generate(prompt, 500))"
   ]
  },
  {
   "cell_type": "code",
   "execution_count": 52,
   "metadata": {},
   "outputs": [
    {
     "name": "stdout",
     "output_type": "stream",
     "text": [
      "lid guards the eye, and without the key of love he let no one into\n",
      "his soul. His teachers complained that he would not learn, while his\n",
      "soul was brimming over with thirst for knowledge. And he learned from\n",
      "Kapitonitch, from his nurse, from Nadinka, from Vassily Lukitch, but not\n",
      "from his teachers. The spring his father and his teachers reckoned upon\n",
      "to turn their mill-wheels had long dried up at the source, but its\n",
      "waters did their work in another channel.\n",
      "\n",
      "His father punished Seryozha by not letting him go <msk>her. No the\n",
      "wenting of and her stort. She was all not at the man geest feeling-be over an for\n",
      "a modeth, which he had had they come over he quickly soft the recover had\n",
      "Karned to much to natural and reading gentled certain his him whitelizal\n",
      "Kitty that he has had been come senting and to Not intensity making\n",
      "his dog better. The countess of the first that the lart what this\n",
      "brick always about previples, and even too say the day ached which had not was\n",
      "come. Worn certained the shame to that telling\n"
     ]
    }
   ],
   "source": [
    "text = [t for t in text if t != \"<pad>\"]\n",
    "print(\"\".join(text))"
   ]
  },
  {
   "cell_type": "code",
   "execution_count": 53,
   "metadata": {},
   "outputs": [
    {
     "data": {
      "text/plain": [
       "[14, 16, 18, 20]"
      ]
     },
     "execution_count": 53,
     "metadata": {},
     "output_type": "execute_result"
    }
   ],
   "source": [
    "arr = [4, 6, 8, 10, 12, 14, 16, 18, 20]\n",
    "arr[5:40]"
   ]
  },
  {
   "cell_type": "markdown",
   "metadata": {},
   "source": [
    "### Gradient Accumulation"
   ]
  },
  {
   "cell_type": "code",
   "execution_count": 54,
   "metadata": {},
   "outputs": [],
   "source": [
    "import torch \n",
    "import torch.nn.functional as F\n",
    "\n",
    "data = torch.tensor([4.0, 6, 8, 10, 12, 14, 16, 18, 20]).reshape(3,-1)\n",
    "labels = torch.tensor([10.0, 20, 30]).reshape(3,-1)"
   ]
  },
  {
   "cell_type": "code",
   "execution_count": 55,
   "metadata": {},
   "outputs": [
    {
     "data": {
      "text/plain": [
       "tensor([[1.2102],\n",
       "        [2.0578],\n",
       "        [2.9054]], grad_fn=<AddmmBackward0>)"
      ]
     },
     "execution_count": 55,
     "metadata": {},
     "output_type": "execute_result"
    }
   ],
   "source": [
    "model = torch.nn.Linear(3, 1)\n",
    "model(data)"
   ]
  },
  {
   "cell_type": "markdown",
   "metadata": {},
   "source": [
    "Non gradient accumulation"
   ]
  },
  {
   "cell_type": "code",
   "execution_count": 56,
   "metadata": {},
   "outputs": [
    {
     "data": {
      "text/plain": [
       "(tensor([[-432.0627, -503.8314, -575.6000]]), tensor([-35.8843]))"
      ]
     },
     "execution_count": 56,
     "metadata": {},
     "output_type": "execute_result"
    }
   ],
   "source": [
    "loss = F.mse_loss(model(data), labels)\n",
    "loss.backward()\n",
    "model.weight.grad, model.bias.grad"
   ]
  },
  {
   "cell_type": "markdown",
   "metadata": {},
   "source": [
    "Gradient accumulation"
   ]
  },
  {
   "cell_type": "code",
   "execution_count": 57,
   "metadata": {},
   "outputs": [
    {
     "data": {
      "text/plain": [
       "(tensor([[0., 0., 0.]]), tensor([0.]))"
      ]
     },
     "execution_count": 57,
     "metadata": {},
     "output_type": "execute_result"
    }
   ],
   "source": [
    "i = 0\n",
    "model.weight.grad = torch.zeros_like(model.weight.grad)\n",
    "model.bias.grad = torch.zeros_like(model.bias.grad)\n",
    "model.weight.grad, model.bias.grad"
   ]
  },
  {
   "cell_type": "code",
   "execution_count": 58,
   "metadata": {},
   "outputs": [
    {
     "data": {
      "text/plain": [
       "(tensor([[-23.4394, -35.1590, -46.8787]]), tensor([-5.8598]))"
      ]
     },
     "execution_count": 58,
     "metadata": {},
     "output_type": "execute_result"
    }
   ],
   "source": [
    "loss = F.mse_loss(model(data[i,]), labels[i,]) / 3\n",
    "loss.backward()\n",
    "i += 1\n",
    "model.weight.grad, model.bias.grad"
   ]
  },
  {
   "cell_type": "markdown",
   "metadata": {},
   "source": [
    "### Learning Rate Scheduler"
   ]
  },
  {
   "cell_type": "code",
   "execution_count": 59,
   "metadata": {},
   "outputs": [
    {
     "data": {
      "image/png": "[encoded data removed]",
      "text/plain": [
       "<Figure size 640x480 with 1 Axes>"
      ]
     },
     "metadata": {},
     "output_type": "display_data"
    }
   ],
   "source": [
    "import matplotlib.pyplot as plt\n",
    "import numpy as np\n",
    "import torch\n",
    "\n",
    "def lr_schedule(max_lr, min_lr, n_batchs, batch, pct_start=0.1, pct_bottom=0.7):\n",
    "    # cosine learning rate\n",
    "    warmup_step = torch.tensor(pct_start * n_batchs)\n",
    "    bottom_step = torch.tensor(pct_bottom * n_batchs)\n",
    "    if batch < warmup_step:\n",
    "        return (max_lr - min_lr) / warmup_step * batch + min_lr\n",
    "    elif batch < bottom_step:\n",
    "        # some calculus to scale and shift the cosine function\n",
    "        return (max_lr - min_lr) / 2 * torch.cos(torch.pi / (bottom_step - warmup_step) * (batch - warmup_step)) + (max_lr + min_lr) / 2 \n",
    "    else:\n",
    "        return min_lr\n",
    "\n",
    "n_data = 1000\n",
    "max_lr = 0.001\n",
    "min_lr = 0.0001\n",
    "batch = np.arange(0, n_data)\n",
    "lr = torch.tensor([lr_schedule(max_lr, min_lr, n_data, b) for b in batch])\n",
    "plt.plot(batch, lr)\n",
    "plt.show()"
   ]
  }
 ],
 "metadata": {
  "kernelspec": {
   "display_name": "Python 3",
   "language": "python",
   "name": "python3"
  },
  "language_info": {
   "codemirror_mode": {
    "name": "ipython",
    "version": 3
   },
   "file_extension": ".py",
   "mimetype": "text/x-python",
   "name": "python",
   "nbconvert_exporter": "python",
   "pygments_lexer": "ipython3",
   "version": "3.11.9"
  }
 },
 "nbformat": 4,
 "nbformat_minor": 2
}
