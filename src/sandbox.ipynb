{
 "cells": [
  {
   "cell_type": "code",
   "execution_count": 93,
   "metadata": {},
   "outputs": [],
   "source": [
    "import torch\n",
    "from torch.utils.data import Dataset\n",
    "import pickle\n",
    "import string"
   ]
  },
  {
   "cell_type": "code",
   "execution_count": 94,
   "metadata": {},
   "outputs": [],
   "source": [
    "from mininlp.data import Tokenizer\n",
    "\n",
    "tokenizer = Tokenizer()"
   ]
  },
  {
   "cell_type": "code",
   "execution_count": 95,
   "metadata": {},
   "outputs": [
    {
     "name": "stdout",
     "output_type": "stream",
     "text": [
      "{'p', '&', 'r', 's', ']', '\\x0b', '.', '\\r', '0', '_', 'Z', '\\x0c', 'x', 'j', '>', 'H', '+', '(', 'v', 'F', 'G', 'V', 'A', 'U', '^', 'Y', '|', 't', 'y', 'm', '1', \"'\", ':', 'N', '?', ';', '<', '[', 'R', 'S', 'o', 'e', '9', ' ', '4', '<eos>', '\\\\', 'C', ')', '%', 'k', '#', 'w', 'E', '-', '\\n', '3', '7', 'q', '8', 'M', 'Q', '<unk>', '<mask>', 'b', 'h', '`', 'L', 'g', '5', 'D', 'P', '}', '!', '=', '\"', '\\t', 'c', 'f', 'n', '@', '/', '$', 'O', 'K', 'a', 'd', 'u', 'W', '*', '{', 'l', '<sos>', 'B', 'I', '<pad>', 'X', '2', 'J', ',', 'i', 'T', 'z', '~', '6'}\n"
     ]
    }
   ],
   "source": [
    "\"\"\"Token are every ascii character and special tokens for start of sentence, \n",
    "end of sentence, padding, unknown and mask.\"\"\"\n",
    "from mininlp.data import assci_tokens\n",
    "print(assci_tokens())"
   ]
  },
  {
   "cell_type": "code",
   "execution_count": 96,
   "metadata": {},
   "outputs": [],
   "source": [
    "tokens = assci_tokens()\n",
    "tokenizer = Tokenizer(tokens)"
   ]
  },
  {
   "cell_type": "code",
   "execution_count": 97,
   "metadata": {},
   "outputs": [],
   "source": [
    "\"\"\"Test if the tokenizer is able to convert tokens to ids and vice versa.\"\"\"\n",
    "\n",
    "for id in tokenizer._tokens:\n",
    "    assert tokenizer._token_ids[tokenizer._tokens[id]] == id"
   ]
  },
  {
   "cell_type": "code",
   "execution_count": 98,
   "metadata": {},
   "outputs": [
    {
     "name": "stdout",
     "output_type": "stream",
     "text": [
      "Hello, World! \n",
      "Lovely day, isn't it?\n",
      "tensor([ 15,  41,  91,  91,  40,  99,  43,  88,  40,   2,  91,  86,  73,  43,\n",
      "         55,  67,  40,  18,  41,  91,  28,  43,  86,  85,  28,  99,  43, 100,\n",
      "          3,  79,  31,  27,  43, 100,  27,  34], dtype=torch.int32)\n",
      "['H', 'e', 'l', 'l', 'o', ',', ' ', 'W', 'o', 'r', 'l', 'd', '!', ' ', '\\n', 'L', 'o', 'v', 'e', 'l', 'y', ' ', 'd', 'a', 'y', ',', ' ', 'i', 's', 'n', \"'\", 't', ' ', 'i', 't', '?']\n"
     ]
    }
   ],
   "source": [
    "\"\"\"Test if the tokenizer is able to encode and decode a string.\"\"\"\n",
    "\n",
    "test_string = \"Hello, World! \\nLovely day, isn't it?\"\n",
    "\n",
    "test_encoded = tokenizer.encode(test_string)\n",
    "test_decoded = tokenizer.decode(test_encoded)\n",
    "assert test_string == \"\".join(test_decoded)\n",
    "\n",
    "print(test_string)\n",
    "print(test_encoded)\n",
    "print(test_decoded)"
   ]
  },
  {
   "cell_type": "code",
   "execution_count": 99,
   "metadata": {},
   "outputs": [],
   "source": [
    "\"\"\"Test if the tokenizer is able to save and load itself.\"\"\"\n",
    "\n",
    "tokenizer.save(\"tokenizer\")\n",
    "\n",
    "tokenizer2 = Tokenizer()\n",
    "tokenizer2.load(\"tokenizer.pkl\")"
   ]
  },
  {
   "cell_type": "code",
   "execution_count": 100,
   "metadata": {},
   "outputs": [],
   "source": [
    "\"\"\"Test if the loaded tokenizer is the same as the original tokenizer.\"\"\"\n",
    "\n",
    "assert tokenizer._tokens == tokenizer2._tokens\n",
    "assert tokenizer._token_ids == tokenizer2._token_ids"
   ]
  },
  {
   "cell_type": "code",
   "execution_count": 101,
   "metadata": {},
   "outputs": [
    {
     "name": "stdout",
     "output_type": "stream",
     "text": [
      "['H', 'e', 'l', 'l', 'o', ',', ' ', 'W', 'o', 'r', 'l', 'd', '!', ' ', '\\n', 'L', 'o', 'v', 'e', 'l', 'y', ' ', 'd', 'a', 'y', ',', ' ', 'i', 's', 'n', \"'\", 't', ' ', 'i', 't', '?']\n",
      "tensor([ 15,  41,  91,  91,  40,  99,  43,  88,  40,   2,  91,  86,  73,  43,\n",
      "         55,  67,  40,  18,  41,  91,  28,  43,  86,  85,  28,  99,  43, 100,\n",
      "          3,  79,  31,  27,  43, 100,  27,  34], dtype=torch.int32)\n"
     ]
    }
   ],
   "source": [
    "\"\"\"Test if the orginal tokenizer and the loaded one encodes and decodes a string to the same tokens ids.\"\"\"\n",
    "\n",
    "test_encoded = tokenizer2.encode(test_string)\n",
    "test_decoded = tokenizer.decode(test_encoded)\n",
    "assert test_string == \"\".join(test_decoded)\n",
    "\n",
    "test_encoded = tokenizer.encode(test_string)\n",
    "test_decoded = tokenizer2.decode(test_encoded)\n",
    "assert test_string == \"\".join(test_decoded)\n",
    "\n",
    "print(test_decoded)\n",
    "print(test_encoded)"
   ]
  },
  {
   "cell_type": "code",
   "execution_count": 102,
   "metadata": {},
   "outputs": [],
   "source": [
    "from mininlp.data import SequenceDataset\n",
    "\n",
    "encoded_document = tokenizer.tokenize_document(\"../data/anna.txt\")\n",
    "dataset = SequenceDataset('../data/anna.txt', tokenizer, 32, 1000)"
   ]
  },
  {
   "cell_type": "code",
   "execution_count": 103,
   "metadata": {},
   "outputs": [
    {
     "data": {
      "text/plain": [
       "(tensor([95, 95, 95, 95, 95, 95, 95, 95, 95, 95, 95, 95, 95, 95, 95, 95, 95, 95,\n",
       "         95, 95, 95, 95, 95, 95, 95, 95, 95, 95, 95, 95, 95, 92],\n",
       "        dtype=torch.int32),\n",
       " tensor(52, dtype=torch.int32))"
      ]
     },
     "execution_count": 103,
     "metadata": {},
     "output_type": "execute_result"
    }
   ],
   "source": [
    "dataset[0]"
   ]
  },
  {
   "cell_type": "code",
   "execution_count": 104,
   "metadata": {},
   "outputs": [
    {
     "name": "stdout",
     "output_type": "stream",
     "text": [
      "['<pad>', '<pad>', '<pad>', '<pad>', '<pad>', '<pad>', '<pad>', '<pad>', '<pad>', '<pad>', '<pad>', '<pad>', '<pad>', '<pad>', '<pad>', '<sos>', 'y', ' ', 'f', 'o', 'r', ' ', 'a', 'n', 'y', 't', 'h', 'i', 'n', 'g', '.', '\\n'] ['A']\n",
      "['<pad>', '<pad>', '<pad>', '<pad>', '<pad>', '<pad>', '<pad>', '<pad>', '<pad>', '<pad>', '<pad>', '<pad>', '<pad>', '<sos>', 'a', 'n', 'y', 'w', 'h', 'e', 'r', 'e', '.', '\\n', '\\n', '\"', 'W', 'h', 'e', 'r', 'e', ' '] ['c']\n",
      "['<pad>', '<sos>', ' ', 'h', 'o', 'u', 'r', 's', ' ', 't', 'h', 'e', 'y', ' ', 'p', 'l', 'a', 'y', 'e', 'd', ' ', 'b', 'y', ' ', 't', 'u', 'r', 'n', 's', ' ', 'o', 'n'] [' ']\n"
     ]
    }
   ],
   "source": [
    "print(tokenizer.decode(dataset[50][0]), tokenizer.decode(dataset[50][1]))\n",
    "print(tokenizer.decode(dataset[46][0]), tokenizer.decode(dataset[46][1]))\n",
    "print(tokenizer.decode(dataset[5][0]), tokenizer.decode(dataset[5][1]))"
   ]
  },
  {
   "cell_type": "markdown",
   "metadata": {},
   "source": [
    "# Model"
   ]
  },
  {
   "cell_type": "code",
   "execution_count": 105,
   "metadata": {},
   "outputs": [
    {
     "data": {
      "text/plain": [
       "DTransformer(\n",
       "  (_embedding): Embedding(\n",
       "    (_token_embedding): Embedding(105, 512)\n",
       "  )\n",
       "  (_decoders): ModuleList(\n",
       "    (0-3): 4 x Decoder(\n",
       "      (_laynorm1): LayerNorm((512,), eps=1e-05, elementwise_affine=True)\n",
       "      (_laynorm2): LayerNorm((512,), eps=1e-05, elementwise_affine=True)\n",
       "      (_mmha): MultiHeadAttention(\n",
       "        (_projection): ModuleList(\n",
       "          (0-2): 3 x Linear(in_features=512, out_features=512, bias=True)\n",
       "        )\n",
       "        (_reprojection): Linear(in_features=512, out_features=512, bias=True)\n",
       "      )\n",
       "      (_mha): MultiHeadAttention(\n",
       "        (_projection): ModuleList(\n",
       "          (0-2): 3 x Linear(in_features=512, out_features=512, bias=True)\n",
       "        )\n",
       "        (_reprojection): Linear(in_features=512, out_features=512, bias=True)\n",
       "      )\n",
       "      (_ff): FeedForward(\n",
       "        (_laynorm): LayerNorm((512,), eps=1e-05, elementwise_affine=True)\n",
       "        (_ff): Sequential(\n",
       "          (0): Linear(in_features=512, out_features=2048, bias=True)\n",
       "          (1): ReLU()\n",
       "          (2): Linear(in_features=2048, out_features=512, bias=True)\n",
       "        )\n",
       "      )\n",
       "      (drop): Dropout(p=0.1, inplace=False)\n",
       "    )\n",
       "  )\n",
       "  (_lang_head): LanguageHead(\n",
       "    (_projection): Linear(in_features=512, out_features=105, bias=True)\n",
       "  )\n",
       ")"
      ]
     },
     "execution_count": 105,
     "metadata": {},
     "output_type": "execute_result"
    }
   ],
   "source": [
    "from mininlp.transformer import DTransformer\n",
    "import json\n",
    "\n",
    "VERSION = 1\n",
    "MODEL_NAME = f'decoder_transformer_v{VERSION}'\n",
    "config = json.load(open(f\"../models/{MODEL_NAME}.json\"))\n",
    "\n",
    "model = DTransformer(\n",
    "    config['layers'], \n",
    "    config['embedding_dim'], \n",
    "    len(tokenizer), \n",
    "    config['seq_len'], \n",
    "    config['heads'], \n",
    "    config['factor'])\n",
    "state_dict = torch.load(f\"../models/{MODEL_NAME}.pt\")\n",
    "model.load_state_dict(state_dict)\n",
    "model.to('cuda')"
   ]
  },
  {
   "cell_type": "code",
   "execution_count": 106,
   "metadata": {},
   "outputs": [],
   "source": [
    "tokenizer = Tokenizer()\n",
    "tokenizer.load(\"../models/tokenizer.pkl\")\n",
    "dataset = SequenceDataset('../data/anna.txt', tokenizer, config['seq_len'], 1)"
   ]
  },
  {
   "cell_type": "code",
   "execution_count": 107,
   "metadata": {},
   "outputs": [
    {
     "name": "stderr",
     "output_type": "stream",
     "text": [
      "/usr/lib/python3/dist-packages/IPython/core/pylabtools.py:151: UserWarning: Glyph 12 (\f) missing from current font.\n",
      "  fig.canvas.print_figure(bytes_io, **kw)\n",
      "/usr/lib/python3/dist-packages/IPython/core/pylabtools.py:151: UserWarning: Glyph 11 (\u000b) missing from current font.\n",
      "  fig.canvas.print_figure(bytes_io, **kw)\n",
      "/usr/lib/python3/dist-packages/IPython/core/pylabtools.py:151: UserWarning: Glyph 9 (\t) missing from current font.\n",
      "  fig.canvas.print_figure(bytes_io, **kw)\n",
      ") missing from current font.es/IPython/core/pylabtools.py:151: UserWarning: Glyph 13 (\n",
      "  fig.canvas.print_figure(bytes_io, **kw)\n"
     ]
    },
    {
     "data": {
      "image/png": "[encoded data removed]",
      "text/plain": [
       "<Figure size 1440x360 with 1 Axes>"
      ]
     },
     "metadata": {
      "needs_background": "light"
     },
     "output_type": "display_data"
    }
   ],
   "source": [
    "import torch.nn.functional as F\n",
    "import matplotlib.pyplot as plt\n",
    "\n",
    "model.eval()\n",
    "with torch.no_grad():\n",
    "    input = dataset[0][0].unsqueeze(0)\n",
    "    output = model(input.to('cuda'))\n",
    "    probs = F.softmax(output[0, -1, :], dim=0)\n",
    "    probs = probs.detach().cpu()\n",
    "    \n",
    "plt.figure(figsize=(20, 5))\n",
    "plt.bar(tokenizer.decode(torch.tensor(range(len(probs)))), probs)\n",
    "plt.xticks(rotation=90)\n",
    "plt.show()"
   ]
  },
  {
   "cell_type": "code",
   "execution_count": 108,
   "metadata": {},
   "outputs": [],
   "source": [
    "text = tokenizer.decode(dataset[0][0])\n",
    "text += [\"<msk>\"]\n",
    "model.eval()\n",
    "with torch.no_grad():\n",
    "    prompt = dataset[0][0].unsqueeze(0).to('cuda')\n",
    "    text += tokenizer.decode(model.generate(prompt, 1000))"
   ]
  },
  {
   "cell_type": "code",
   "execution_count": 109,
   "metadata": {},
   "outputs": [
    {
     "name": "stdout",
     "output_type": "stream",
     "text": [
      "<sos>ding himself er<msk>ea chaintimpssed ther he ht Allual juclity!\" she\n",
      "thall were you scously best magain in timp. jor in blitte in fouse culd\n",
      "shout me at ing ifta st impsss in a it in to--------tha----that's la\n",
      "how chaintion which istertable, and that inter ight sht gret get get,\n",
      "hut  could cafiall the counting taus tttre that all to----it to ther it would that tevitch turied ther\n",
      "heationess.\n",
      "\n",
      "\n",
      "\n",
      "Whe ftre Kitty hall teat inte time.. \"I plult it poult effie. \"But\n",
      "Levin cois perit inte; but  were it inquall thess mut sered fin telfty\n",
      "Levin was be hat in to it's ling ht ht it ill-----it me tha---the came ther\n",
      "hatefied ta Mating Kaut ha\n",
      "fotainting was ting tain cesss mation ite tall that the paintion tha----that it.\n",
      "\n",
      "Whe ftall tever wait waLevin's sall thess perit inte it ing tat the get rand\n",
      "beher tha fta---fa half-chainte up wath is peatious ttted in wered\n",
      "ha das ta\n",
      "muqualwing tther ies st ma------tha----tha---tha--just t ma----\"ith,\n",
      "\"But ma------sto that's calway shat hare it in histilsteling itttio\n",
      "her it c\n"
     ]
    }
   ],
   "source": [
    "text = [t for t in text if t != \"<pad>\"]\n",
    "print(\"\".join(text))"
   ]
  }
 ],
 "metadata": {
  "kernelspec": {
   "display_name": "Python 3",
   "language": "python",
   "name": "python3"
  },
  "language_info": {
   "codemirror_mode": {
    "name": "ipython",
    "version": 3
   },
   "file_extension": ".py",
   "mimetype": "text/x-python",
   "name": "python",
   "nbconvert_exporter": "python",
   "pygments_lexer": "ipython3",
   "version": "3.10.12"
  }
 },
 "nbformat": 4,
 "nbformat_minor": 2
}
